{
 "cells": [
  {
   "cell_type": "markdown",
   "metadata": {
    "deletable": true,
    "editable": true
   },
   "source": [
    "# Analysere ER for å finne riktige variabler å etterligne\n",
    "\n",
    "Har lastet ned ER fra https://hotell.difi.no/download/brreg/enhetsregisteret?download og lagret som **er.csv**.\n",
    "\n",
    "Kan ikke ha IDer (funker dårlig pluss unyttig)."
   ]
  },
  {
   "cell_type": "code",
   "execution_count": 1,
   "metadata": {
    "collapsed": false,
    "deletable": true,
    "editable": true
   },
   "outputs": [
    {
     "ename": "ImportError",
     "evalue": "No module named 'requests'",
     "output_type": "error",
     "traceback": [
      "\u001b[0;31m---------------------------------------------------------------------------\u001b[0m",
      "\u001b[0;31mImportError\u001b[0m                               Traceback (most recent call last)",
      "\u001b[0;32m<ipython-input-1-2a8bc676012e>\u001b[0m in \u001b[0;36m<module>\u001b[0;34m()\u001b[0m\n\u001b[1;32m      1\u001b[0m \u001b[0;32mimport\u001b[0m \u001b[0mpandas\u001b[0m \u001b[0;32mas\u001b[0m \u001b[0mpd\u001b[0m\u001b[0;34m\u001b[0m\u001b[0m\n\u001b[0;32m----> 2\u001b[0;31m \u001b[0;32mimport\u001b[0m \u001b[0mrequests\u001b[0m\u001b[0;34m\u001b[0m\u001b[0m\n\u001b[0m",
      "\u001b[0;31mImportError\u001b[0m: No module named 'requests'"
     ]
    }
   ],
   "source": [
    "import pandas as pd"
   ]
  },
  {
   "cell_type": "code",
   "execution_count": 6,
   "metadata": {
    "collapsed": false,
    "deletable": true,
    "editable": true
   },
   "outputs": [
    {
     "name": "stdout",
     "output_type": "stream",
     "text": [
      "Get:1 http://security.ubuntu.com/ubuntu xenial-security InRelease [107 kB]\n",
      "Get:2 http://archive.ubuntu.com/ubuntu xenial InRelease [247 kB]               \u001b[0m\n",
      "Ign:3 http://developer.download.nvidia.com/compute/cuda/repos/ubuntu1604/x86_64  InRelease\n",
      "Ign:4 http://developer.download.nvidia.com/compute/machine-learning/repos/ubuntu1604/x86_64  InRelease\n",
      "Get:5 http://developer.download.nvidia.com/compute/cuda/repos/ubuntu1604/x86_64  Release [564 B]\n",
      "Get:6 http://developer.download.nvidia.com/compute/machine-learning/repos/ubuntu1604/x86_64  Release [564 B]\n",
      "Get:7 http://developer.download.nvidia.com/compute/cuda/repos/ubuntu1604/x86_64  Release.gpg [801 B]\n",
      "Get:8 http://developer.download.nvidia.com/compute/machine-learning/repos/ubuntu1604/x86_64  Release.gpg [801 B]\n",
      "Get:9 http://developer.download.nvidia.com/compute/cuda/repos/ubuntu1604/x86_64  Packages [136 kB]\n",
      "Get:10 http://developer.download.nvidia.com/compute/machine-learning/repos/ubuntu1604/x86_64  Packages [25.2 kB]\n",
      "Get:11 http://archive.ubuntu.com/ubuntu xenial-updates InRelease [109 kB] \u001b[0m\u001b[33m\u001b[33m\n",
      "Get:12 http://security.ubuntu.com/ubuntu xenial-security/universe Sources [84.1 kB]\u001b[33m\u001b[33m\n",
      "Get:13 http://archive.ubuntu.com/ubuntu xenial-backports InRelease [107 kB]    \u001b[0m\n",
      "Get:14 http://archive.ubuntu.com/ubuntu xenial/universe Sources [9802 kB]\u001b[0m\u001b[33mm\u001b[33m\n",
      "Get:15 http://security.ubuntu.com/ubuntu xenial-security/main amd64 Packages [668 kB]\n",
      "Get:16 http://security.ubuntu.com/ubuntu xenial-security/restricted amd64 Packages [12.7 kB]m\n",
      "Get:17 http://security.ubuntu.com/ubuntu xenial-security/universe amd64 Packages [455 kB]\n",
      "Get:18 http://security.ubuntu.com/ubuntu xenial-security/multiverse amd64 Packages [3738 B]\n",
      "Get:19 http://archive.ubuntu.com/ubuntu xenial/main amd64 Packages [1558 kB]   \u001b[0m\u001b[33m\u001b[33m\u001b[33m\u001b[33m\n",
      "Get:20 http://archive.ubuntu.com/ubuntu xenial/restricted amd64 Packages [14.1 kB]\n",
      "Get:21 http://archive.ubuntu.com/ubuntu xenial/universe amd64 Packages [9827 kB]\n",
      "Get:22 http://archive.ubuntu.com/ubuntu xenial/multiverse amd64 Packages [176 kB]\n",
      "Get:23 http://archive.ubuntu.com/ubuntu xenial-updates/universe Sources [261 kB]\n",
      "Get:24 http://archive.ubuntu.com/ubuntu xenial-updates/main amd64 Packages [1046 kB]\n",
      "Get:25 http://archive.ubuntu.com/ubuntu xenial-updates/restricted amd64 Packages [13.1 kB]\n",
      "Get:26 http://archive.ubuntu.com/ubuntu xenial-updates/universe amd64 Packages [828 kB]\n",
      "Get:27 http://archive.ubuntu.com/ubuntu xenial-updates/multiverse amd64 Packages [18.8 kB]\n",
      "Get:28 http://archive.ubuntu.com/ubuntu xenial-backports/main amd64 Packages [7321 B]\n",
      "Get:29 http://archive.ubuntu.com/ubuntu xenial-backports/universe amd64 Packages [8086 B]\n",
      "Fetched 25.5 MB in 3s (7838 kB/s)33m                        \u001b[0m\u001b[33m\u001b[33m\u001b[33m\u001b[33m\u001b[33m\u001b[33m\n",
      "Reading package lists... Done\n",
      "Building dependency tree       \n",
      "Reading state information... Done\n",
      "71 packages can be upgraded. Run 'apt list --upgradable' to see them.\n",
      "Reading package lists... Done\n",
      "Building dependency tree       \n",
      "Reading state information... Done\n",
      "The following additional packages will be installed:\n",
      "  libcurl3-gnutls\n",
      "The following packages will be upgraded:\n",
      "  curl libcurl3-gnutls\n",
      "2 upgraded, 0 newly installed, 0 to remove and 69 not upgraded.\n",
      "Need to get 323 kB of archives.\n",
      "After this operation, 0 B of additional disk space will be used.\n",
      "Get:1 http://archive.ubuntu.com/ubuntu xenial-updates/main amd64 curl amd64 7.47.0-1ubuntu2.8 [139 kB]\n",
      "Get:2 http://archive.ubuntu.com/ubuntu xenial-updates/main amd64 libcurl3-gnutls amd64 7.47.0-1ubuntu2.8 [185 kB]\n",
      "Fetched 323 kB in 0s (594 kB/s)         \u001b[0m\u001b[33m\n",
      "debconf: delaying package configuration, since apt-utils is not installed\n",
      "\n",
      "(Reading database ... 12597 files and directories currently installed.)\n",
      "Preparing to unpack .../curl_7.47.0-1ubuntu2.8_amd64.deb ...\n",
      "\u001b7\u001b[24;0f\u001b[42m\u001b[30mProgress: [  0%]\u001b[49m\u001b[39m [..........................................................] \u001b8\u001b7\u001b[24;0f\u001b[42m\u001b[30mProgress: [  9%]\u001b[49m\u001b[39m [######....................................................] \u001b8Unpacking curl (7.47.0-1ubuntu2.8) over (7.47.0-1ubuntu2.5) ...\n",
      "\u001b7\u001b[24;0f\u001b[42m\u001b[30mProgress: [ 18%]\u001b[49m\u001b[39m [###########...............................................] \u001b8\u001b7\u001b[24;0f\u001b[42m\u001b[30mProgress: [ 27%]\u001b[49m\u001b[39m [################..........................................] \u001b8Preparing to unpack .../libcurl3-gnutls_7.47.0-1ubuntu2.8_amd64.deb ...\n",
      "\u001b7\u001b[24;0f\u001b[42m\u001b[30mProgress: [ 36%]\u001b[49m\u001b[39m [######################....................................] \u001b8Unpacking libcurl3-gnutls:amd64 (7.47.0-1ubuntu2.8) over (7.47.0-1ubuntu2.5) ...\n",
      "\u001b7\u001b[24;0f\u001b[42m\u001b[30mProgress: [ 45%]\u001b[49m\u001b[39m [###########################...............................] \u001b8\u001b7\u001b[24;0f\u001b[42m\u001b[30mProgress: [ 54%]\u001b[49m\u001b[39m [################################..........................] \u001b8Processing triggers for libc-bin (2.23-0ubuntu9) ...\n",
      "Setting up libcurl3-gnutls:amd64 (7.47.0-1ubuntu2.8) ...\n",
      "\u001b7\u001b[24;0f\u001b[42m\u001b[30mProgress: [ 63%]\u001b[49m\u001b[39m [#####################################.....................] \u001b8\u001b7\u001b[24;0f\u001b[42m\u001b[30mProgress: [ 72%]\u001b[49m\u001b[39m [###########################################...............] \u001b8Setting up curl (7.47.0-1ubuntu2.8) ...\n",
      "\u001b7\u001b[24;0f\u001b[42m\u001b[30mProgress: [ 81%]\u001b[49m\u001b[39m [################################################..........] \u001b8\u001b7\u001b[24;0f\u001b[42m\u001b[30mProgress: [ 90%]\u001b[49m\u001b[39m [#####################################################.....] \u001b8Processing triggers for libc-bin (2.23-0ubuntu9) ...\n",
      "\n",
      "Reading package lists... Done\n",
      "Building dependency tree       \n",
      "Reading state information... Done\n",
      "The following NEW packages will be installed:\n",
      "  wget\n",
      "0 upgraded, 1 newly installed, 0 to remove and 69 not upgraded.\n",
      "Need to get 299 kB of archives.\n",
      "After this operation, 905 kB of additional disk space will be used.\n",
      "Get:1 http://archive.ubuntu.com/ubuntu xenial-updates/main amd64 wget amd64 1.17.1-1ubuntu1.4 [299 kB]\n",
      "Fetched 299 kB in 0s (644 kB/s)0m\u001b[33m\n",
      "debconf: delaying package configuration, since apt-utils is not installed\n",
      "\n",
      "\u001b7\u001b[0;23r\u001b8\u001b[1ASelecting previously unselected package wget.\n",
      "(Reading database ... 12597 files and directories currently installed.)\n",
      "Preparing to unpack .../wget_1.17.1-1ubuntu1.4_amd64.deb ...\n",
      "\u001b7\u001b[24;0f\u001b[42m\u001b[30mProgress: [  0%]\u001b[49m\u001b[39m [..........................................................] \u001b8\u001b7\u001b[24;0f\u001b[42m\u001b[30mProgress: [ 16%]\u001b[49m\u001b[39m [##########................................................] \u001b8Unpacking wget (1.17.1-1ubuntu1.4) ...\n",
      "\u001b7\u001b[24;0f\u001b[42m\u001b[30mProgress: [ 33%]\u001b[49m\u001b[39m [####################......................................] \u001b8\u001b7\u001b[24;0f\u001b[42m\u001b[30mProgress: [ 50%]\u001b[49m\u001b[39m [#############################.............................] \u001b8Setting up wget (1.17.1-1ubuntu1.4) ...\n",
      "\u001b7\u001b[24;0f\u001b[42m\u001b[30mProgress: [ 66%]\u001b[49m\u001b[39m [#######################################...................] \u001b8\u001b7\u001b[24;0f\u001b[42m\u001b[30mProgress: [ 83%]\u001b[49m\u001b[39m [#################################################.........] \u001b8\n",
      "\u001b7\u001b[0;24r\u001b8\u001b[1A\u001b[J"
     ]
    }
   ],
   "source": [
    "!apt -y update && apt -y install curl && apt -y install wget"
   ]
  },
  {
   "cell_type": "code",
   "execution_count": 7,
   "metadata": {
    "collapsed": false,
    "deletable": true,
    "editable": true
   },
   "outputs": [
    {
     "name": "stdout",
     "output_type": "stream",
     "text": [
      "  % Total    % Received % Xferd  Average Speed   Time    Time     Time  Current\n",
      "                                 Dload  Upload   Total   Spent    Left  Speed\n",
      "100  237M    0  237M    0     0   667k      0 --:--:--  0:06:03 --:--:-- 5899k 173M    0     0   508k      0 --:--:--  0:05:49 --:--:-- 4346k\n"
     ]
    }
   ],
   "source": [
    "!curl  https://hotell.difi.no/download/brreg/enhetsregisteret?download > /storage/er.csv"
   ]
  },
  {
   "cell_type": "code",
   "execution_count": 8,
   "metadata": {
    "collapsed": true,
    "deletable": true,
    "editable": true
   },
   "outputs": [],
   "source": [
    "er = pd.read_csv('/storage/er.csv', sep=\";\")"
   ]
  },
  {
   "cell_type": "code",
   "execution_count": 9,
   "metadata": {
    "collapsed": false,
    "deletable": true,
    "editable": true
   },
   "outputs": [
    {
     "data": {
      "text/plain": [
       "orgnr                  int64\n",
       "navn                  object\n",
       "organisasjonsform     object\n",
       "forretningsadr        object\n",
       "forradrpostnr        float64\n",
       "forradrpoststed       object\n",
       "forradrkommnr        float64\n",
       "forradrkommnavn       object\n",
       "forradrland           object\n",
       "postadresse           object\n",
       "ppostnr              float64\n",
       "ppoststed             object\n",
       "ppostland             object\n",
       "regifr                object\n",
       "regimva               object\n",
       "nkode1               float64\n",
       "nkode2               float64\n",
       "nkode3               float64\n",
       "sektorkode           float64\n",
       "konkurs               object\n",
       "avvikling             object\n",
       "tvangsavvikling       object\n",
       "regiaa                object\n",
       "regifriv              object\n",
       "regdato               object\n",
       "stiftelsesdato        object\n",
       "tlf                   object\n",
       "tlf_mobil             object\n",
       "url                   object\n",
       "regnskap             float64\n",
       "hovedenhet           float64\n",
       "ansatte_antall       float64\n",
       "ansatte_dato          object\n",
       "dtype: object"
      ]
     },
     "execution_count": 9,
     "metadata": {},
     "output_type": "execute_result"
    }
   ],
   "source": [
    "er.dtypes"
   ]
  },
  {
   "cell_type": "code",
   "execution_count": 10,
   "metadata": {
    "collapsed": false,
    "deletable": true,
    "editable": true
   },
   "outputs": [
    {
     "data": {
      "text/plain": [
       "(1098180, 33)"
      ]
     },
     "execution_count": 10,
     "metadata": {},
     "output_type": "execute_result"
    }
   ],
   "source": [
    "er.shape"
   ]
  },
  {
   "cell_type": "code",
   "execution_count": 11,
   "metadata": {
    "collapsed": false,
    "deletable": true,
    "editable": true
   },
   "outputs": [
    {
     "data": {
      "text/html": [
       "<div>\n",
       "<style scoped>\n",
       "    .dataframe tbody tr th:only-of-type {\n",
       "        vertical-align: middle;\n",
       "    }\n",
       "\n",
       "    .dataframe tbody tr th {\n",
       "        vertical-align: top;\n",
       "    }\n",
       "\n",
       "    .dataframe thead th {\n",
       "        text-align: right;\n",
       "    }\n",
       "</style>\n",
       "<table border=\"1\" class=\"dataframe\">\n",
       "  <thead>\n",
       "    <tr style=\"text-align: right;\">\n",
       "      <th></th>\n",
       "      <th>nkode1</th>\n",
       "      <th>forradrkommnr</th>\n",
       "      <th>sektorkode</th>\n",
       "      <th>ansatte_antall</th>\n",
       "      <th>regdato</th>\n",
       "    </tr>\n",
       "  </thead>\n",
       "  <tbody>\n",
       "    <tr>\n",
       "      <th>1098175</th>\n",
       "      <td>41.109</td>\n",
       "      <td>1865.0</td>\n",
       "      <td>2100.0</td>\n",
       "      <td>NaN</td>\n",
       "      <td>03.10.2009</td>\n",
       "    </tr>\n",
       "    <tr>\n",
       "      <th>1098176</th>\n",
       "      <td>96.090</td>\n",
       "      <td>937.0</td>\n",
       "      <td>7000.0</td>\n",
       "      <td>NaN</td>\n",
       "      <td>27.04.2015</td>\n",
       "    </tr>\n",
       "    <tr>\n",
       "      <th>1098177</th>\n",
       "      <td>86.909</td>\n",
       "      <td>1246.0</td>\n",
       "      <td>2100.0</td>\n",
       "      <td>1.0</td>\n",
       "      <td>10.03.2015</td>\n",
       "    </tr>\n",
       "    <tr>\n",
       "      <th>1098178</th>\n",
       "      <td>68.209</td>\n",
       "      <td>220.0</td>\n",
       "      <td>2100.0</td>\n",
       "      <td>NaN</td>\n",
       "      <td>30.03.2016</td>\n",
       "    </tr>\n",
       "    <tr>\n",
       "      <th>1098179</th>\n",
       "      <td>90.020</td>\n",
       "      <td>301.0</td>\n",
       "      <td>8200.0</td>\n",
       "      <td>NaN</td>\n",
       "      <td>09.10.2015</td>\n",
       "    </tr>\n",
       "  </tbody>\n",
       "</table>\n",
       "</div>"
      ],
      "text/plain": [
       "         nkode1  forradrkommnr  sektorkode  ansatte_antall     regdato\n",
       "1098175  41.109         1865.0      2100.0             NaN  03.10.2009\n",
       "1098176  96.090          937.0      7000.0             NaN  27.04.2015\n",
       "1098177  86.909         1246.0      2100.0             1.0  10.03.2015\n",
       "1098178  68.209          220.0      2100.0             NaN  30.03.2016\n",
       "1098179  90.020          301.0      8200.0             NaN  09.10.2015"
      ]
     },
     "execution_count": 11,
     "metadata": {},
     "output_type": "execute_result"
    }
   ],
   "source": [
    "er.loc[:, [\"nkode1\", \"forradrkommnr\", \"sektorkode\", \"ansatte_antall\", \"regdato\"]].tail()"
   ]
  },
  {
   "cell_type": "markdown",
   "metadata": {
    "deletable": true,
    "editable": true
   },
   "source": [
    "33 variabler, mesteparten unødvendig. Viktige ting å ha med:\n",
    "- Næringskode (nkode1)\n",
    "- kommune (forradrkommnr)\n",
    "- sektor (sektorkode)\n",
    "- Antall ansatte (ansatte_antall)\n",
    "- Stiftelsesdato (grunnet NaN bruker heller regdato, bonus: mindre entropi)\n"
   ]
  },
  {
   "cell_type": "markdown",
   "metadata": {
    "deletable": true,
    "editable": true
   },
   "source": [
    "Må også gjøre om en del datatyper.\n",
    "\n",
    "Leser inn på nytt."
   ]
  },
  {
   "cell_type": "code",
   "execution_count": 13,
   "metadata": {
    "collapsed": true,
    "deletable": true,
    "editable": true
   },
   "outputs": [],
   "source": [
    "import numpy as np\n",
    "dtypes = {'nkode1': 'str', 'forradrkommnr': 'str', 'sektorkode': 'str', 'regdato': 'str' }\n",
    "parse_dates = ['regdato']\n",
    "\n",
    "prepare = pd.read_csv('/storage/er.csv', sep=\";\", dtype=dtypes, parse_dates=parse_dates).query('ansatte_antall>0')"
   ]
  },
  {
   "cell_type": "code",
   "execution_count": 14,
   "metadata": {
    "collapsed": false,
    "deletable": true,
    "editable": true
   },
   "outputs": [
    {
     "data": {
      "text/plain": [
       "orgnr                         int64\n",
       "navn                         object\n",
       "organisasjonsform            object\n",
       "forretningsadr               object\n",
       "forradrpostnr               float64\n",
       "forradrpoststed              object\n",
       "forradrkommnr                object\n",
       "forradrkommnavn              object\n",
       "forradrland                  object\n",
       "postadresse                  object\n",
       "ppostnr                     float64\n",
       "ppoststed                    object\n",
       "ppostland                    object\n",
       "regifr                       object\n",
       "regimva                      object\n",
       "nkode1                       object\n",
       "nkode2                      float64\n",
       "nkode3                      float64\n",
       "sektorkode                   object\n",
       "konkurs                      object\n",
       "avvikling                    object\n",
       "tvangsavvikling              object\n",
       "regiaa                       object\n",
       "regifriv                     object\n",
       "regdato              datetime64[ns]\n",
       "stiftelsesdato               object\n",
       "tlf                          object\n",
       "tlf_mobil                    object\n",
       "url                          object\n",
       "regnskap                    float64\n",
       "hovedenhet                  float64\n",
       "ansatte_antall              float64\n",
       "ansatte_dato                 object\n",
       "dtype: object"
      ]
     },
     "execution_count": 14,
     "metadata": {},
     "output_type": "execute_result"
    }
   ],
   "source": [
    "prepare.dtypes"
   ]
  },
  {
   "cell_type": "code",
   "execution_count": 15,
   "metadata": {
    "collapsed": false,
    "deletable": true,
    "editable": true
   },
   "outputs": [
    {
     "data": {
      "text/html": [
       "<div>\n",
       "<style scoped>\n",
       "    .dataframe tbody tr th:only-of-type {\n",
       "        vertical-align: middle;\n",
       "    }\n",
       "\n",
       "    .dataframe tbody tr th {\n",
       "        vertical-align: top;\n",
       "    }\n",
       "\n",
       "    .dataframe thead th {\n",
       "        text-align: right;\n",
       "    }\n",
       "</style>\n",
       "<table border=\"1\" class=\"dataframe\">\n",
       "  <thead>\n",
       "    <tr style=\"text-align: right;\">\n",
       "      <th></th>\n",
       "      <th>nkode1</th>\n",
       "      <th>forradrkommnr</th>\n",
       "      <th>sektorkode</th>\n",
       "      <th>ansatte_antall</th>\n",
       "      <th>regdato</th>\n",
       "    </tr>\n",
       "  </thead>\n",
       "  <tbody>\n",
       "    <tr>\n",
       "      <th>1098152</th>\n",
       "      <td>47.111</td>\n",
       "      <td>0701</td>\n",
       "      <td>8200</td>\n",
       "      <td>4.0</td>\n",
       "      <td>1995-02-19</td>\n",
       "    </tr>\n",
       "    <tr>\n",
       "      <th>1098155</th>\n",
       "      <td>68.209</td>\n",
       "      <td>0301</td>\n",
       "      <td>2100</td>\n",
       "      <td>5.0</td>\n",
       "      <td>1995-02-20</td>\n",
       "    </tr>\n",
       "    <tr>\n",
       "      <th>1098161</th>\n",
       "      <td>68.201</td>\n",
       "      <td>0104</td>\n",
       "      <td>8300</td>\n",
       "      <td>10.0</td>\n",
       "      <td>1995-02-19</td>\n",
       "    </tr>\n",
       "    <tr>\n",
       "      <th>1098168</th>\n",
       "      <td>68.201</td>\n",
       "      <td>5001</td>\n",
       "      <td>8300</td>\n",
       "      <td>3.0</td>\n",
       "      <td>2006-10-24</td>\n",
       "    </tr>\n",
       "    <tr>\n",
       "      <th>1098177</th>\n",
       "      <td>86.909</td>\n",
       "      <td>1246</td>\n",
       "      <td>2100</td>\n",
       "      <td>1.0</td>\n",
       "      <td>2015-10-03</td>\n",
       "    </tr>\n",
       "  </tbody>\n",
       "</table>\n",
       "</div>"
      ],
      "text/plain": [
       "         nkode1 forradrkommnr sektorkode  ansatte_antall    regdato\n",
       "1098152  47.111          0701       8200             4.0 1995-02-19\n",
       "1098155  68.209          0301       2100             5.0 1995-02-20\n",
       "1098161  68.201          0104       8300            10.0 1995-02-19\n",
       "1098168  68.201          5001       8300             3.0 2006-10-24\n",
       "1098177  86.909          1246       2100             1.0 2015-10-03"
      ]
     },
     "execution_count": 15,
     "metadata": {},
     "output_type": "execute_result"
    }
   ],
   "source": [
    "prepare.loc[:, [\"nkode1\", \"forradrkommnr\", \"sektorkode\", \"ansatte_antall\", \"regdato\"]].tail()"
   ]
  },
  {
   "cell_type": "markdown",
   "metadata": {
    "deletable": true,
    "editable": true
   },
   "source": [
    "Need dummies for:\n",
    "- nkode1\n",
    "- forradrkommnr\n",
    "- sektorkode\n",
    "\n",
    "instead of dummies, tokenize? Nah. Start with dummies."
   ]
  },
  {
   "cell_type": "code",
   "execution_count": 16,
   "metadata": {
    "collapsed": true,
    "deletable": true,
    "editable": true
   },
   "outputs": [],
   "source": [
    "dummies = {}\n",
    "for arg in [\"nkode1\", \"forradrkommnr\", \"sektorkode\"]:\n",
    "    dummies[arg] = pd.get_dummies(prepare[arg], prefix=arg)"
   ]
  },
  {
   "cell_type": "code",
   "execution_count": 17,
   "metadata": {
    "collapsed": false,
    "deletable": true,
    "editable": true
   },
   "outputs": [
    {
     "data": {
      "text/plain": [
       "dict_keys(['forradrkommnr', 'nkode1', 'sektorkode'])"
      ]
     },
     "execution_count": 17,
     "metadata": {},
     "output_type": "execute_result"
    }
   ],
   "source": [
    "dummies.keys()"
   ]
  },
  {
   "cell_type": "code",
   "execution_count": 18,
   "metadata": {
    "collapsed": false,
    "deletable": true,
    "editable": true
   },
   "outputs": [
    {
     "data": {
      "text/html": [
       "<div>\n",
       "<style scoped>\n",
       "    .dataframe tbody tr th:only-of-type {\n",
       "        vertical-align: middle;\n",
       "    }\n",
       "\n",
       "    .dataframe tbody tr th {\n",
       "        vertical-align: top;\n",
       "    }\n",
       "\n",
       "    .dataframe thead th {\n",
       "        text-align: right;\n",
       "    }\n",
       "</style>\n",
       "<table border=\"1\" class=\"dataframe\">\n",
       "  <thead>\n",
       "    <tr style=\"text-align: right;\">\n",
       "      <th></th>\n",
       "      <th>forradrkommnr_0101</th>\n",
       "      <th>forradrkommnr_0104</th>\n",
       "      <th>forradrkommnr_0105</th>\n",
       "      <th>forradrkommnr_0106</th>\n",
       "      <th>forradrkommnr_0111</th>\n",
       "      <th>forradrkommnr_0118</th>\n",
       "      <th>forradrkommnr_0119</th>\n",
       "      <th>forradrkommnr_0121</th>\n",
       "      <th>forradrkommnr_0122</th>\n",
       "      <th>forradrkommnr_0123</th>\n",
       "      <th>...</th>\n",
       "      <th>forradrkommnr_5045</th>\n",
       "      <th>forradrkommnr_5046</th>\n",
       "      <th>forradrkommnr_5047</th>\n",
       "      <th>forradrkommnr_5048</th>\n",
       "      <th>forradrkommnr_5049</th>\n",
       "      <th>forradrkommnr_5050</th>\n",
       "      <th>forradrkommnr_5051</th>\n",
       "      <th>forradrkommnr_5052</th>\n",
       "      <th>forradrkommnr_5053</th>\n",
       "      <th>forradrkommnr_5054</th>\n",
       "    </tr>\n",
       "  </thead>\n",
       "  <tbody>\n",
       "    <tr>\n",
       "      <th>0</th>\n",
       "      <td>0</td>\n",
       "      <td>0</td>\n",
       "      <td>0</td>\n",
       "      <td>0</td>\n",
       "      <td>0</td>\n",
       "      <td>0</td>\n",
       "      <td>0</td>\n",
       "      <td>0</td>\n",
       "      <td>0</td>\n",
       "      <td>0</td>\n",
       "      <td>...</td>\n",
       "      <td>0</td>\n",
       "      <td>0</td>\n",
       "      <td>0</td>\n",
       "      <td>0</td>\n",
       "      <td>0</td>\n",
       "      <td>0</td>\n",
       "      <td>0</td>\n",
       "      <td>0</td>\n",
       "      <td>0</td>\n",
       "      <td>0</td>\n",
       "    </tr>\n",
       "    <tr>\n",
       "      <th>3</th>\n",
       "      <td>0</td>\n",
       "      <td>0</td>\n",
       "      <td>0</td>\n",
       "      <td>0</td>\n",
       "      <td>0</td>\n",
       "      <td>0</td>\n",
       "      <td>0</td>\n",
       "      <td>0</td>\n",
       "      <td>0</td>\n",
       "      <td>0</td>\n",
       "      <td>...</td>\n",
       "      <td>0</td>\n",
       "      <td>0</td>\n",
       "      <td>0</td>\n",
       "      <td>0</td>\n",
       "      <td>0</td>\n",
       "      <td>0</td>\n",
       "      <td>0</td>\n",
       "      <td>0</td>\n",
       "      <td>0</td>\n",
       "      <td>0</td>\n",
       "    </tr>\n",
       "    <tr>\n",
       "      <th>5</th>\n",
       "      <td>0</td>\n",
       "      <td>0</td>\n",
       "      <td>0</td>\n",
       "      <td>0</td>\n",
       "      <td>0</td>\n",
       "      <td>0</td>\n",
       "      <td>0</td>\n",
       "      <td>0</td>\n",
       "      <td>0</td>\n",
       "      <td>0</td>\n",
       "      <td>...</td>\n",
       "      <td>0</td>\n",
       "      <td>0</td>\n",
       "      <td>0</td>\n",
       "      <td>0</td>\n",
       "      <td>0</td>\n",
       "      <td>0</td>\n",
       "      <td>0</td>\n",
       "      <td>0</td>\n",
       "      <td>0</td>\n",
       "      <td>0</td>\n",
       "    </tr>\n",
       "    <tr>\n",
       "      <th>12</th>\n",
       "      <td>0</td>\n",
       "      <td>0</td>\n",
       "      <td>0</td>\n",
       "      <td>0</td>\n",
       "      <td>0</td>\n",
       "      <td>0</td>\n",
       "      <td>0</td>\n",
       "      <td>0</td>\n",
       "      <td>0</td>\n",
       "      <td>0</td>\n",
       "      <td>...</td>\n",
       "      <td>0</td>\n",
       "      <td>0</td>\n",
       "      <td>0</td>\n",
       "      <td>0</td>\n",
       "      <td>0</td>\n",
       "      <td>0</td>\n",
       "      <td>0</td>\n",
       "      <td>0</td>\n",
       "      <td>0</td>\n",
       "      <td>0</td>\n",
       "    </tr>\n",
       "    <tr>\n",
       "      <th>27</th>\n",
       "      <td>0</td>\n",
       "      <td>0</td>\n",
       "      <td>0</td>\n",
       "      <td>0</td>\n",
       "      <td>0</td>\n",
       "      <td>0</td>\n",
       "      <td>0</td>\n",
       "      <td>0</td>\n",
       "      <td>0</td>\n",
       "      <td>0</td>\n",
       "      <td>...</td>\n",
       "      <td>0</td>\n",
       "      <td>0</td>\n",
       "      <td>0</td>\n",
       "      <td>0</td>\n",
       "      <td>0</td>\n",
       "      <td>0</td>\n",
       "      <td>0</td>\n",
       "      <td>0</td>\n",
       "      <td>0</td>\n",
       "      <td>0</td>\n",
       "    </tr>\n",
       "  </tbody>\n",
       "</table>\n",
       "<p>5 rows × 423 columns</p>\n",
       "</div>"
      ],
      "text/plain": [
       "    forradrkommnr_0101  forradrkommnr_0104  forradrkommnr_0105  \\\n",
       "0                    0                   0                   0   \n",
       "3                    0                   0                   0   \n",
       "5                    0                   0                   0   \n",
       "12                   0                   0                   0   \n",
       "27                   0                   0                   0   \n",
       "\n",
       "    forradrkommnr_0106  forradrkommnr_0111  forradrkommnr_0118  \\\n",
       "0                    0                   0                   0   \n",
       "3                    0                   0                   0   \n",
       "5                    0                   0                   0   \n",
       "12                   0                   0                   0   \n",
       "27                   0                   0                   0   \n",
       "\n",
       "    forradrkommnr_0119  forradrkommnr_0121  forradrkommnr_0122  \\\n",
       "0                    0                   0                   0   \n",
       "3                    0                   0                   0   \n",
       "5                    0                   0                   0   \n",
       "12                   0                   0                   0   \n",
       "27                   0                   0                   0   \n",
       "\n",
       "    forradrkommnr_0123         ...          forradrkommnr_5045  \\\n",
       "0                    0         ...                           0   \n",
       "3                    0         ...                           0   \n",
       "5                    0         ...                           0   \n",
       "12                   0         ...                           0   \n",
       "27                   0         ...                           0   \n",
       "\n",
       "    forradrkommnr_5046  forradrkommnr_5047  forradrkommnr_5048  \\\n",
       "0                    0                   0                   0   \n",
       "3                    0                   0                   0   \n",
       "5                    0                   0                   0   \n",
       "12                   0                   0                   0   \n",
       "27                   0                   0                   0   \n",
       "\n",
       "    forradrkommnr_5049  forradrkommnr_5050  forradrkommnr_5051  \\\n",
       "0                    0                   0                   0   \n",
       "3                    0                   0                   0   \n",
       "5                    0                   0                   0   \n",
       "12                   0                   0                   0   \n",
       "27                   0                   0                   0   \n",
       "\n",
       "    forradrkommnr_5052  forradrkommnr_5053  forradrkommnr_5054  \n",
       "0                    0                   0                   0  \n",
       "3                    0                   0                   0  \n",
       "5                    0                   0                   0  \n",
       "12                   0                   0                   0  \n",
       "27                   0                   0                   0  \n",
       "\n",
       "[5 rows x 423 columns]"
      ]
     },
     "execution_count": 18,
     "metadata": {},
     "output_type": "execute_result"
    }
   ],
   "source": [
    "dummies[\"forradrkommnr\"].head()"
   ]
  },
  {
   "cell_type": "code",
   "execution_count": 19,
   "metadata": {
    "collapsed": true,
    "deletable": true,
    "editable": true
   },
   "outputs": [],
   "source": [
    "df = prepare.loc[:, [\"nkode1\", \"forradrkommnr\", \"sektorkode\", \"ansatte_antall\", \"regdato\"]]"
   ]
  },
  {
   "cell_type": "code",
   "execution_count": 20,
   "metadata": {
    "collapsed": true,
    "deletable": true,
    "editable": true
   },
   "outputs": [],
   "source": [
    "df.drop(dummies.keys(), axis=1, inplace=True)"
   ]
  },
  {
   "cell_type": "code",
   "execution_count": 21,
   "metadata": {
    "collapsed": true,
    "deletable": true,
    "editable": true
   },
   "outputs": [],
   "source": [
    "for key in dummies.keys():\n",
    "    df = df.join(dummies[key])"
   ]
  },
  {
   "cell_type": "code",
   "execution_count": 22,
   "metadata": {
    "collapsed": false,
    "deletable": true,
    "editable": true
   },
   "outputs": [
    {
     "data": {
      "text/plain": [
       "(173447, 1231)"
      ]
     },
     "execution_count": 22,
     "metadata": {},
     "output_type": "execute_result"
    }
   ],
   "source": [
    "df.shape"
   ]
  },
  {
   "cell_type": "code",
   "execution_count": 23,
   "metadata": {
    "collapsed": false,
    "deletable": true,
    "editable": true
   },
   "outputs": [
    {
     "data": {
      "text/plain": [
       "ansatte_antall               float64\n",
       "regdato               datetime64[ns]\n",
       "forradrkommnr_0101             uint8\n",
       "forradrkommnr_0104             uint8\n",
       "forradrkommnr_0105             uint8\n",
       "forradrkommnr_0106             uint8\n",
       "forradrkommnr_0111             uint8\n",
       "forradrkommnr_0118             uint8\n",
       "forradrkommnr_0119             uint8\n",
       "forradrkommnr_0121             uint8\n",
       "forradrkommnr_0122             uint8\n",
       "forradrkommnr_0123             uint8\n",
       "forradrkommnr_0124             uint8\n",
       "forradrkommnr_0125             uint8\n",
       "forradrkommnr_0127             uint8\n",
       "forradrkommnr_0128             uint8\n",
       "forradrkommnr_0135             uint8\n",
       "forradrkommnr_0136             uint8\n",
       "forradrkommnr_0137             uint8\n",
       "forradrkommnr_0138             uint8\n",
       "forradrkommnr_0211             uint8\n",
       "forradrkommnr_0213             uint8\n",
       "forradrkommnr_0214             uint8\n",
       "forradrkommnr_0215             uint8\n",
       "forradrkommnr_0216             uint8\n",
       "forradrkommnr_0217             uint8\n",
       "forradrkommnr_0219             uint8\n",
       "forradrkommnr_0220             uint8\n",
       "forradrkommnr_0221             uint8\n",
       "forradrkommnr_0226             uint8\n",
       "                           ...      \n",
       "nkode1_96.020                  uint8\n",
       "nkode1_96.030                  uint8\n",
       "nkode1_96.040                  uint8\n",
       "nkode1_96.090                  uint8\n",
       "nkode1_97.000                  uint8\n",
       "nkode1_99.000                  uint8\n",
       "sektorkode_1110                uint8\n",
       "sektorkode_1120                uint8\n",
       "sektorkode_1510                uint8\n",
       "sektorkode_1520                uint8\n",
       "sektorkode_2100                uint8\n",
       "sektorkode_2300                uint8\n",
       "sektorkode_2500                uint8\n",
       "sektorkode_3100                uint8\n",
       "sektorkode_3200                uint8\n",
       "sektorkode_3500                uint8\n",
       "sektorkode_3600                uint8\n",
       "sektorkode_3900                uint8\n",
       "sektorkode_4100                uint8\n",
       "sektorkode_4500                uint8\n",
       "sektorkode_4900                uint8\n",
       "sektorkode_5500                uint8\n",
       "sektorkode_5700                uint8\n",
       "sektorkode_6100                uint8\n",
       "sektorkode_6500                uint8\n",
       "sektorkode_7000                uint8\n",
       "sektorkode_8200                uint8\n",
       "sektorkode_8300                uint8\n",
       "sektorkode_8500                uint8\n",
       "sektorkode_9000                uint8\n",
       "Length: 1231, dtype: object"
      ]
     },
     "execution_count": 23,
     "metadata": {},
     "output_type": "execute_result"
    }
   ],
   "source": [
    "df.dtypes"
   ]
  },
  {
   "cell_type": "code",
   "execution_count": 24,
   "metadata": {
    "collapsed": false,
    "deletable": true,
    "editable": true
   },
   "outputs": [
    {
     "data": {
      "text/html": [
       "<div>\n",
       "<style scoped>\n",
       "    .dataframe tbody tr th:only-of-type {\n",
       "        vertical-align: middle;\n",
       "    }\n",
       "\n",
       "    .dataframe tbody tr th {\n",
       "        vertical-align: top;\n",
       "    }\n",
       "\n",
       "    .dataframe thead th {\n",
       "        text-align: right;\n",
       "    }\n",
       "</style>\n",
       "<table border=\"1\" class=\"dataframe\">\n",
       "  <thead>\n",
       "    <tr style=\"text-align: right;\">\n",
       "      <th></th>\n",
       "      <th>ansatte_antall</th>\n",
       "      <th>regdato</th>\n",
       "      <th>forradrkommnr_0101</th>\n",
       "      <th>forradrkommnr_0104</th>\n",
       "      <th>forradrkommnr_0105</th>\n",
       "      <th>forradrkommnr_0106</th>\n",
       "      <th>forradrkommnr_0111</th>\n",
       "      <th>forradrkommnr_0118</th>\n",
       "      <th>forradrkommnr_0119</th>\n",
       "      <th>forradrkommnr_0121</th>\n",
       "      <th>...</th>\n",
       "      <th>sektorkode_4900</th>\n",
       "      <th>sektorkode_5500</th>\n",
       "      <th>sektorkode_5700</th>\n",
       "      <th>sektorkode_6100</th>\n",
       "      <th>sektorkode_6500</th>\n",
       "      <th>sektorkode_7000</th>\n",
       "      <th>sektorkode_8200</th>\n",
       "      <th>sektorkode_8300</th>\n",
       "      <th>sektorkode_8500</th>\n",
       "      <th>sektorkode_9000</th>\n",
       "    </tr>\n",
       "  </thead>\n",
       "  <tbody>\n",
       "    <tr>\n",
       "      <th>0</th>\n",
       "      <td>76.0</td>\n",
       "      <td>1996-05-28</td>\n",
       "      <td>0</td>\n",
       "      <td>0</td>\n",
       "      <td>0</td>\n",
       "      <td>0</td>\n",
       "      <td>0</td>\n",
       "      <td>0</td>\n",
       "      <td>0</td>\n",
       "      <td>0</td>\n",
       "      <td>...</td>\n",
       "      <td>0</td>\n",
       "      <td>0</td>\n",
       "      <td>0</td>\n",
       "      <td>0</td>\n",
       "      <td>1</td>\n",
       "      <td>0</td>\n",
       "      <td>0</td>\n",
       "      <td>0</td>\n",
       "      <td>0</td>\n",
       "      <td>0</td>\n",
       "    </tr>\n",
       "    <tr>\n",
       "      <th>3</th>\n",
       "      <td>1.0</td>\n",
       "      <td>2013-09-19</td>\n",
       "      <td>0</td>\n",
       "      <td>0</td>\n",
       "      <td>0</td>\n",
       "      <td>0</td>\n",
       "      <td>0</td>\n",
       "      <td>0</td>\n",
       "      <td>0</td>\n",
       "      <td>0</td>\n",
       "      <td>...</td>\n",
       "      <td>0</td>\n",
       "      <td>0</td>\n",
       "      <td>0</td>\n",
       "      <td>0</td>\n",
       "      <td>0</td>\n",
       "      <td>0</td>\n",
       "      <td>0</td>\n",
       "      <td>0</td>\n",
       "      <td>0</td>\n",
       "      <td>0</td>\n",
       "    </tr>\n",
       "    <tr>\n",
       "      <th>5</th>\n",
       "      <td>2.0</td>\n",
       "      <td>2018-01-31</td>\n",
       "      <td>0</td>\n",
       "      <td>0</td>\n",
       "      <td>0</td>\n",
       "      <td>0</td>\n",
       "      <td>0</td>\n",
       "      <td>0</td>\n",
       "      <td>0</td>\n",
       "      <td>0</td>\n",
       "      <td>...</td>\n",
       "      <td>0</td>\n",
       "      <td>0</td>\n",
       "      <td>0</td>\n",
       "      <td>0</td>\n",
       "      <td>0</td>\n",
       "      <td>0</td>\n",
       "      <td>0</td>\n",
       "      <td>0</td>\n",
       "      <td>0</td>\n",
       "      <td>0</td>\n",
       "    </tr>\n",
       "    <tr>\n",
       "      <th>12</th>\n",
       "      <td>4.0</td>\n",
       "      <td>2013-08-24</td>\n",
       "      <td>0</td>\n",
       "      <td>0</td>\n",
       "      <td>0</td>\n",
       "      <td>0</td>\n",
       "      <td>0</td>\n",
       "      <td>0</td>\n",
       "      <td>0</td>\n",
       "      <td>0</td>\n",
       "      <td>...</td>\n",
       "      <td>0</td>\n",
       "      <td>0</td>\n",
       "      <td>0</td>\n",
       "      <td>0</td>\n",
       "      <td>0</td>\n",
       "      <td>0</td>\n",
       "      <td>1</td>\n",
       "      <td>0</td>\n",
       "      <td>0</td>\n",
       "      <td>0</td>\n",
       "    </tr>\n",
       "    <tr>\n",
       "      <th>27</th>\n",
       "      <td>1.0</td>\n",
       "      <td>2014-06-19</td>\n",
       "      <td>0</td>\n",
       "      <td>0</td>\n",
       "      <td>0</td>\n",
       "      <td>0</td>\n",
       "      <td>0</td>\n",
       "      <td>0</td>\n",
       "      <td>0</td>\n",
       "      <td>0</td>\n",
       "      <td>...</td>\n",
       "      <td>0</td>\n",
       "      <td>0</td>\n",
       "      <td>0</td>\n",
       "      <td>0</td>\n",
       "      <td>0</td>\n",
       "      <td>0</td>\n",
       "      <td>0</td>\n",
       "      <td>0</td>\n",
       "      <td>0</td>\n",
       "      <td>0</td>\n",
       "    </tr>\n",
       "  </tbody>\n",
       "</table>\n",
       "<p>5 rows × 1231 columns</p>\n",
       "</div>"
      ],
      "text/plain": [
       "    ansatte_antall    regdato  forradrkommnr_0101  forradrkommnr_0104  \\\n",
       "0             76.0 1996-05-28                   0                   0   \n",
       "3              1.0 2013-09-19                   0                   0   \n",
       "5              2.0 2018-01-31                   0                   0   \n",
       "12             4.0 2013-08-24                   0                   0   \n",
       "27             1.0 2014-06-19                   0                   0   \n",
       "\n",
       "    forradrkommnr_0105  forradrkommnr_0106  forradrkommnr_0111  \\\n",
       "0                    0                   0                   0   \n",
       "3                    0                   0                   0   \n",
       "5                    0                   0                   0   \n",
       "12                   0                   0                   0   \n",
       "27                   0                   0                   0   \n",
       "\n",
       "    forradrkommnr_0118  forradrkommnr_0119  forradrkommnr_0121  \\\n",
       "0                    0                   0                   0   \n",
       "3                    0                   0                   0   \n",
       "5                    0                   0                   0   \n",
       "12                   0                   0                   0   \n",
       "27                   0                   0                   0   \n",
       "\n",
       "         ...         sektorkode_4900  sektorkode_5500  sektorkode_5700  \\\n",
       "0        ...                       0                0                0   \n",
       "3        ...                       0                0                0   \n",
       "5        ...                       0                0                0   \n",
       "12       ...                       0                0                0   \n",
       "27       ...                       0                0                0   \n",
       "\n",
       "    sektorkode_6100  sektorkode_6500  sektorkode_7000  sektorkode_8200  \\\n",
       "0                 0                1                0                0   \n",
       "3                 0                0                0                0   \n",
       "5                 0                0                0                0   \n",
       "12                0                0                0                1   \n",
       "27                0                0                0                0   \n",
       "\n",
       "    sektorkode_8300  sektorkode_8500  sektorkode_9000  \n",
       "0                 0                0                0  \n",
       "3                 0                0                0  \n",
       "5                 0                0                0  \n",
       "12                0                0                0  \n",
       "27                0                0                0  \n",
       "\n",
       "[5 rows x 1231 columns]"
      ]
     },
     "execution_count": 24,
     "metadata": {},
     "output_type": "execute_result"
    }
   ],
   "source": [
    "df.head()"
   ]
  },
  {
   "cell_type": "code",
   "execution_count": 26,
   "metadata": {
    "collapsed": false,
    "deletable": true,
    "editable": true
   },
   "outputs": [
    {
     "name": "stdout",
     "output_type": "stream",
     "text": [
      "Collecting tables\n",
      "  Downloading https://files.pythonhosted.org/packages/a5/df/d70f5df27f72082b4c6977d202788904f613089667e791c4aca0986bb229/tables-3.4.4-cp35-cp35m-manylinux1_x86_64.whl (3.8MB)\n",
      "\u001b[K    100% |################################| 3.8MB 431kB/s eta 0:00:01\n",
      "\u001b[?25hRequirement already satisfied: six>=1.9.0 in /usr/local/lib/python3.5/dist-packages (from tables)\n",
      "Requirement already satisfied: numpy>=1.8.0 in /usr/local/lib/python3.5/dist-packages (from tables)\n",
      "Collecting numexpr>=2.5.2 (from tables)\n",
      "  Downloading https://files.pythonhosted.org/packages/35/06/069e881aa4bb2a2c46ad01da9b31f60e703d47456a89124b77ed816742c4/numexpr-2.6.6-cp35-cp35m-manylinux1_x86_64.whl (162kB)\n",
      "\u001b[K    100% |################################| 163kB 8.1MB/s eta 0:00:01\n",
      "\u001b[?25hInstalling collected packages: numexpr, tables\n",
      "Successfully installed numexpr-2.6.6 tables-3.4.4\n",
      "\u001b[33mYou are using pip version 9.0.1, however version 10.0.1 is available.\n",
      "You should consider upgrading via the 'pip install --upgrade pip' command.\u001b[0m\n"
     ]
    }
   ],
   "source": [
    "!pip install tables"
   ]
  },
  {
   "cell_type": "code",
   "execution_count": 27,
   "metadata": {
    "collapsed": true,
    "deletable": true,
    "editable": true
   },
   "outputs": [],
   "source": [
    "import tables"
   ]
  },
  {
   "cell_type": "code",
   "execution_count": 28,
   "metadata": {
    "collapsed": true,
    "deletable": true,
    "editable": true
   },
   "outputs": [],
   "source": [
    "df.to_hdf('/storage/er_predict.h5', 'table')"
   ]
  },
  {
   "cell_type": "code",
   "execution_count": null,
   "metadata": {
    "collapsed": true,
    "deletable": true,
    "editable": true
   },
   "outputs": [],
   "source": []
  }
 ],
 "metadata": {
  "kernelspec": {
   "display_name": "Python 3",
   "language": "python",
   "name": "python3"
  },
  "language_info": {
   "codemirror_mode": {
    "name": "ipython",
    "version": 3
   },
   "file_extension": ".py",
   "mimetype": "text/x-python",
   "name": "python",
   "nbconvert_exporter": "python",
   "pygments_lexer": "ipython3",
   "version": "3.6.1"
  }
 },
 "nbformat": 4,
 "nbformat_minor": 2
}
